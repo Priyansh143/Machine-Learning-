{
  "nbformat": 4,
  "nbformat_minor": 0,
  "metadata": {
    "colab": {
      "provenance": [],
      "include_colab_link": true
    },
    "kernelspec": {
      "name": "python3",
      "display_name": "Python 3"
    }
  },
  "cells": [
    {
      "cell_type": "markdown",
      "metadata": {
        "id": "view-in-github",
        "colab_type": "text"
      },
      "source": [
        "<a href=\"https://colab.research.google.com/github/Priyansh143/Machine-Learning-/blob/master/multiple_linear_regression2.ipynb\" target=\"_parent\"><img src=\"https://colab.research.google.com/assets/colab-badge.svg\" alt=\"Open In Colab\"/></a>"
      ]
    },
    {
      "cell_type": "markdown",
      "metadata": {
        "id": "CazISR8X_HUG"
      },
      "source": [
        "# Multiple Linear Regression"
      ]
    },
    {
      "cell_type": "markdown",
      "metadata": {
        "id": "pOyqYHTk_Q57"
      },
      "source": [
        "## Importing the libraries"
      ]
    },
    {
      "cell_type": "code",
      "metadata": {
        "id": "T_YHJjnD_Tja"
      },
      "source": [
        "import numpy as np\n",
        "import matplotlib.pyplot as plt\n",
        "import pandas as pd"
      ],
      "execution_count": 40,
      "outputs": []
    },
    {
      "cell_type": "markdown",
      "metadata": {
        "id": "vgC61-ah_WIz"
      },
      "source": [
        "## Importing the dataset"
      ]
    },
    {
      "cell_type": "code",
      "source": [
        "df=pd.read_csv('50_Startups.csv')\n",
        "X=df.drop('Profit',axis=1)\n",
        "y=df['Profit']"
      ],
      "metadata": {
        "id": "hHL09HpW2qyH"
      },
      "execution_count": 41,
      "outputs": []
    },
    {
      "cell_type": "code",
      "source": [
        "missing = df.isnull().sum()\n",
        "print(missing)"
      ],
      "metadata": {
        "colab": {
          "base_uri": "https://localhost:8080/"
        },
        "id": "P2M2hFN54B4H",
        "outputId": "d10fa290-07c9-473e-b7b3-502bba4df8fc"
      },
      "execution_count": 42,
      "outputs": [
        {
          "output_type": "stream",
          "name": "stdout",
          "text": [
            "R&D Spend          0\n",
            "Administration     0\n",
            "Marketing Spend    0\n",
            "State              0\n",
            "Profit             0\n",
            "dtype: int64\n"
          ]
        }
      ]
    },
    {
      "cell_type": "markdown",
      "metadata": {
        "id": "VadrvE7s_lS9"
      },
      "source": [
        "## Encoding categorical data"
      ]
    },
    {
      "cell_type": "code",
      "source": [
        "from sklearn.compose import ColumnTransformer\n",
        "from sklearn.preprocessing import OneHotEncoder\n",
        "ct = ColumnTransformer(transformers=[('encoder', OneHotEncoder(), [3])], remainder='passthrough')\n",
        "X = np.array(ct.fit_transform(X))"
      ],
      "metadata": {
        "id": "bnbllmXn5Raw"
      },
      "execution_count": 43,
      "outputs": []
    },
    {
      "cell_type": "code",
      "source": [
        "print(X)"
      ],
      "metadata": {
        "colab": {
          "base_uri": "https://localhost:8080/"
        },
        "id": "oDvI9jxn9hd3",
        "outputId": "9cb773b0-6bd9-4f45-9083-9f5cc63e863a"
      },
      "execution_count": 44,
      "outputs": [
        {
          "output_type": "stream",
          "name": "stdout",
          "text": [
            "[[0.00e+00 0.00e+00 1.00e+00 1.65e+05 1.37e+05 4.72e+05]\n",
            " [1.00e+00 0.00e+00 0.00e+00 1.63e+05 1.51e+05 4.44e+05]\n",
            " [0.00e+00 1.00e+00 0.00e+00 1.53e+05 1.01e+05 4.08e+05]\n",
            " [0.00e+00 0.00e+00 1.00e+00 1.44e+05 1.19e+05 3.83e+05]\n",
            " [0.00e+00 1.00e+00 0.00e+00 1.42e+05 9.14e+04 3.66e+05]\n",
            " [0.00e+00 0.00e+00 1.00e+00 1.32e+05 9.98e+04 3.63e+05]\n",
            " [1.00e+00 0.00e+00 0.00e+00 1.35e+05 1.47e+05 1.28e+05]\n",
            " [0.00e+00 1.00e+00 0.00e+00 1.30e+05 1.46e+05 3.24e+05]\n",
            " [0.00e+00 0.00e+00 1.00e+00 1.21e+05 1.49e+05 3.12e+05]\n",
            " [1.00e+00 0.00e+00 0.00e+00 1.23e+05 1.09e+05 3.05e+05]\n",
            " [0.00e+00 1.00e+00 0.00e+00 1.02e+05 1.11e+05 2.29e+05]\n",
            " [1.00e+00 0.00e+00 0.00e+00 1.01e+05 9.18e+04 2.50e+05]\n",
            " [0.00e+00 1.00e+00 0.00e+00 9.39e+04 1.27e+05 2.50e+05]\n",
            " [1.00e+00 0.00e+00 0.00e+00 9.20e+04 1.35e+05 2.53e+05]\n",
            " [0.00e+00 1.00e+00 0.00e+00 1.20e+05 1.57e+05 2.57e+05]\n",
            " [0.00e+00 0.00e+00 1.00e+00 1.15e+05 1.23e+05 2.62e+05]\n",
            " [1.00e+00 0.00e+00 0.00e+00 7.80e+04 1.22e+05 2.64e+05]\n",
            " [0.00e+00 0.00e+00 1.00e+00 9.47e+04 1.45e+05 2.83e+05]\n",
            " [0.00e+00 1.00e+00 0.00e+00 9.17e+04 1.14e+05 2.95e+05]\n",
            " [0.00e+00 0.00e+00 1.00e+00 8.64e+04 1.54e+05 0.00e+00]\n",
            " [1.00e+00 0.00e+00 0.00e+00 7.63e+04 1.14e+05 2.99e+05]\n",
            " [0.00e+00 0.00e+00 1.00e+00 7.84e+04 1.54e+05 3.00e+05]\n",
            " [0.00e+00 1.00e+00 0.00e+00 7.40e+04 1.23e+05 3.03e+05]\n",
            " [0.00e+00 1.00e+00 0.00e+00 6.75e+04 1.06e+05 3.05e+05]\n",
            " [0.00e+00 0.00e+00 1.00e+00 7.70e+04 9.93e+04 1.41e+05]\n",
            " [1.00e+00 0.00e+00 0.00e+00 6.47e+04 1.40e+05 1.38e+05]\n",
            " [0.00e+00 1.00e+00 0.00e+00 7.53e+04 1.44e+05 1.34e+05]\n",
            " [0.00e+00 0.00e+00 1.00e+00 7.21e+04 1.28e+05 3.53e+05]\n",
            " [0.00e+00 1.00e+00 0.00e+00 6.61e+04 1.83e+05 1.18e+05]\n",
            " [0.00e+00 0.00e+00 1.00e+00 6.56e+04 1.53e+05 1.07e+05]\n",
            " [0.00e+00 1.00e+00 0.00e+00 6.20e+04 1.16e+05 9.11e+04]\n",
            " [0.00e+00 0.00e+00 1.00e+00 6.11e+04 1.53e+05 8.82e+04]\n",
            " [1.00e+00 0.00e+00 0.00e+00 6.34e+04 1.29e+05 4.61e+04]\n",
            " [0.00e+00 1.00e+00 0.00e+00 5.55e+04 1.03e+05 2.15e+05]\n",
            " [1.00e+00 0.00e+00 0.00e+00 4.64e+04 1.58e+05 2.11e+05]\n",
            " [0.00e+00 0.00e+00 1.00e+00 4.60e+04 8.50e+04 2.06e+05]\n",
            " [0.00e+00 1.00e+00 0.00e+00 2.87e+04 1.27e+05 2.01e+05]\n",
            " [1.00e+00 0.00e+00 0.00e+00 4.41e+04 5.13e+04 1.97e+05]\n",
            " [0.00e+00 0.00e+00 1.00e+00 2.02e+04 6.59e+04 1.85e+05]\n",
            " [1.00e+00 0.00e+00 0.00e+00 3.86e+04 8.30e+04 1.75e+05]\n",
            " [1.00e+00 0.00e+00 0.00e+00 2.88e+04 1.19e+05 1.73e+05]\n",
            " [0.00e+00 1.00e+00 0.00e+00 2.79e+04 8.47e+04 1.64e+05]\n",
            " [1.00e+00 0.00e+00 0.00e+00 2.36e+04 9.62e+04 1.48e+05]\n",
            " [0.00e+00 0.00e+00 1.00e+00 1.55e+04 1.27e+05 3.55e+04]\n",
            " [1.00e+00 0.00e+00 0.00e+00 2.22e+04 1.55e+05 2.83e+04]\n",
            " [0.00e+00 0.00e+00 1.00e+00 1.00e+03 1.24e+05 1.90e+03]\n",
            " [0.00e+00 1.00e+00 0.00e+00 1.32e+03 1.16e+05 2.97e+05]\n",
            " [1.00e+00 0.00e+00 0.00e+00 0.00e+00 1.35e+05 0.00e+00]\n",
            " [0.00e+00 0.00e+00 1.00e+00 5.42e+02 5.17e+04 0.00e+00]\n",
            " [1.00e+00 0.00e+00 0.00e+00 0.00e+00 1.17e+05 4.52e+04]]\n"
          ]
        }
      ]
    },
    {
      "cell_type": "markdown",
      "metadata": {
        "id": "WemVnqgeA70k"
      },
      "source": [
        "## Splitting the dataset into the Training set and Test set"
      ]
    },
    {
      "cell_type": "code",
      "source": [
        "from sklearn.model_selection import train_test_split\n",
        "X_train, X_test, y_train, y_test = train_test_split(X, y, test_size = 0.2, random_state = 0)"
      ],
      "metadata": {
        "id": "KqRhHk9LDMS3"
      },
      "execution_count": 45,
      "outputs": []
    },
    {
      "cell_type": "markdown",
      "metadata": {
        "id": "k-McZVsQBINc"
      },
      "source": [
        "## Training the Multiple Linear Regression model on the Training set"
      ]
    },
    {
      "cell_type": "code",
      "source": [
        "from sklearn.linear_model import LinearRegression\n",
        "regressor= LinearRegression()\n",
        "regressor.fit(X_train,y_train)"
      ],
      "metadata": {
        "colab": {
          "base_uri": "https://localhost:8080/",
          "height": 94
        },
        "id": "WHKCdLm4D4iM",
        "outputId": "8e411795-dabc-4169-ac5a-f016c74ddf62"
      },
      "execution_count": 46,
      "outputs": [
        {
          "output_type": "execute_result",
          "data": {
            "text/plain": [
              "LinearRegression()"
            ],
            "text/html": [
              "<style>#sk-container-id-3 {color: black;}#sk-container-id-3 pre{padding: 0;}#sk-container-id-3 div.sk-toggleable {background-color: white;}#sk-container-id-3 label.sk-toggleable__label {cursor: pointer;display: block;width: 100%;margin-bottom: 0;padding: 0.3em;box-sizing: border-box;text-align: center;}#sk-container-id-3 label.sk-toggleable__label-arrow:before {content: \"▸\";float: left;margin-right: 0.25em;color: #696969;}#sk-container-id-3 label.sk-toggleable__label-arrow:hover:before {color: black;}#sk-container-id-3 div.sk-estimator:hover label.sk-toggleable__label-arrow:before {color: black;}#sk-container-id-3 div.sk-toggleable__content {max-height: 0;max-width: 0;overflow: hidden;text-align: left;background-color: #f0f8ff;}#sk-container-id-3 div.sk-toggleable__content pre {margin: 0.2em;color: black;border-radius: 0.25em;background-color: #f0f8ff;}#sk-container-id-3 input.sk-toggleable__control:checked~div.sk-toggleable__content {max-height: 200px;max-width: 100%;overflow: auto;}#sk-container-id-3 input.sk-toggleable__control:checked~label.sk-toggleable__label-arrow:before {content: \"▾\";}#sk-container-id-3 div.sk-estimator input.sk-toggleable__control:checked~label.sk-toggleable__label {background-color: #d4ebff;}#sk-container-id-3 div.sk-label input.sk-toggleable__control:checked~label.sk-toggleable__label {background-color: #d4ebff;}#sk-container-id-3 input.sk-hidden--visually {border: 0;clip: rect(1px 1px 1px 1px);clip: rect(1px, 1px, 1px, 1px);height: 1px;margin: -1px;overflow: hidden;padding: 0;position: absolute;width: 1px;}#sk-container-id-3 div.sk-estimator {font-family: monospace;background-color: #f0f8ff;border: 1px dotted black;border-radius: 0.25em;box-sizing: border-box;margin-bottom: 0.5em;}#sk-container-id-3 div.sk-estimator:hover {background-color: #d4ebff;}#sk-container-id-3 div.sk-parallel-item::after {content: \"\";width: 100%;border-bottom: 1px solid gray;flex-grow: 1;}#sk-container-id-3 div.sk-label:hover label.sk-toggleable__label {background-color: #d4ebff;}#sk-container-id-3 div.sk-serial::before {content: \"\";position: absolute;border-left: 1px solid gray;box-sizing: border-box;top: 0;bottom: 0;left: 50%;z-index: 0;}#sk-container-id-3 div.sk-serial {display: flex;flex-direction: column;align-items: center;background-color: white;padding-right: 0.2em;padding-left: 0.2em;position: relative;}#sk-container-id-3 div.sk-item {position: relative;z-index: 1;}#sk-container-id-3 div.sk-parallel {display: flex;align-items: stretch;justify-content: center;background-color: white;position: relative;}#sk-container-id-3 div.sk-item::before, #sk-container-id-3 div.sk-parallel-item::before {content: \"\";position: absolute;border-left: 1px solid gray;box-sizing: border-box;top: 0;bottom: 0;left: 50%;z-index: -1;}#sk-container-id-3 div.sk-parallel-item {display: flex;flex-direction: column;z-index: 1;position: relative;background-color: white;}#sk-container-id-3 div.sk-parallel-item:first-child::after {align-self: flex-end;width: 50%;}#sk-container-id-3 div.sk-parallel-item:last-child::after {align-self: flex-start;width: 50%;}#sk-container-id-3 div.sk-parallel-item:only-child::after {width: 0;}#sk-container-id-3 div.sk-dashed-wrapped {border: 1px dashed gray;margin: 0 0.4em 0.5em 0.4em;box-sizing: border-box;padding-bottom: 0.4em;background-color: white;}#sk-container-id-3 div.sk-label label {font-family: monospace;font-weight: bold;display: inline-block;line-height: 1.2em;}#sk-container-id-3 div.sk-label-container {text-align: center;}#sk-container-id-3 div.sk-container {/* jupyter's `normalize.less` sets `[hidden] { display: none; }` but bootstrap.min.css set `[hidden] { display: none !important; }` so we also need the `!important` here to be able to override the default hidden behavior on the sphinx rendered scikit-learn.org. See: https://github.com/scikit-learn/scikit-learn/issues/21755 */display: inline-block !important;position: relative;}#sk-container-id-3 div.sk-text-repr-fallback {display: none;}</style><div id=\"sk-container-id-3\" class=\"sk-top-container\"><div class=\"sk-text-repr-fallback\"><pre>LinearRegression()</pre><b>In a Jupyter environment, please rerun this cell to show the HTML representation or trust the notebook. <br />On GitHub, the HTML representation is unable to render, please try loading this page with nbviewer.org.</b></div><div class=\"sk-container\" hidden><div class=\"sk-item\"><div class=\"sk-estimator sk-toggleable\"><input class=\"sk-toggleable__control sk-hidden--visually\" id=\"sk-estimator-id-3\" type=\"checkbox\" checked><label for=\"sk-estimator-id-3\" class=\"sk-toggleable__label sk-toggleable__label-arrow\">LinearRegression</label><div class=\"sk-toggleable__content\"><pre>LinearRegression()</pre></div></div></div></div></div>"
            ]
          },
          "metadata": {},
          "execution_count": 46
        }
      ]
    },
    {
      "cell_type": "markdown",
      "metadata": {
        "id": "xNkXL1YQBiBT"
      },
      "source": [
        "## Predicting the Test set results"
      ]
    },
    {
      "cell_type": "code",
      "source": [
        "y_pred = regressor.predict(X_test)\n",
        "np.set_printoptions(precision=2)\n",
        "print(np.concatenate((y_pred.reshape(len(y_pred),1), y_test.values.reshape(len(y_test),1)),1))"
      ],
      "metadata": {
        "colab": {
          "base_uri": "https://localhost:8080/"
        },
        "id": "jPOXItHoEDCR",
        "outputId": "457e4470-3c00-4f0d-8859-4e0c37370e0d"
      },
      "execution_count": 47,
      "outputs": [
        {
          "output_type": "stream",
          "name": "stdout",
          "text": [
            "[[103015.2  103282.38]\n",
            " [132582.28 144259.4 ]\n",
            " [132447.74 146121.95]\n",
            " [ 71976.1   77798.83]\n",
            " [178537.48 191050.39]\n",
            " [116161.24 105008.31]\n",
            " [ 67851.69  81229.06]\n",
            " [ 98791.73  97483.56]\n",
            " [113969.44 110352.25]\n",
            " [167921.07 166187.94]]\n"
          ]
        }
      ]
    },
    {
      "cell_type": "markdown",
      "source": [
        "##Backward Propogation"
      ],
      "metadata": {
        "id": "vapnvP6wGOSR"
      }
    },
    {
      "cell_type": "code",
      "source": [
        "import statsmodels.api as sm\n",
        "import numpy as np\n",
        "\n",
        "# Add a column of ones to X to account for the intercept term\n",
        "X = np.append(arr=np.ones((X.shape[0], 1)).astype(int), values=X, axis=1)\n",
        "\n",
        "# Backward Elimination process\n",
        "\n",
        "# Step 1: Fit the model with all possible predictors\n",
        "X_opt = X[:, [0, 1, 2, 3, 4, 5]]\n",
        "X_opt = X_opt.astype(np.float64)\n",
        "regressor_OLS = sm.OLS(endog=y, exog=X_opt).fit()\n",
        "print(regressor_OLS.summary())"
      ],
      "metadata": {
        "colab": {
          "base_uri": "https://localhost:8080/"
        },
        "id": "bGokDd49GUep",
        "outputId": "7a256fdf-ccb4-4f66-d714-d637c84f565a"
      },
      "execution_count": 48,
      "outputs": [
        {
          "output_type": "stream",
          "name": "stdout",
          "text": [
            "                            OLS Regression Results                            \n",
            "==============================================================================\n",
            "Dep. Variable:                 Profit   R-squared:                       0.948\n",
            "Model:                            OLS   Adj. R-squared:                  0.943\n",
            "Method:                 Least Squares   F-statistic:                     205.0\n",
            "Date:                Tue, 06 Aug 2024   Prob (F-statistic):           2.90e-28\n",
            "Time:                        14:45:14   Log-Likelihood:                -526.75\n",
            "No. Observations:                  50   AIC:                             1064.\n",
            "Df Residuals:                      45   BIC:                             1073.\n",
            "Df Model:                           4                                         \n",
            "Covariance Type:            nonrobust                                         \n",
            "==============================================================================\n",
            "                 coef    std err          t      P>|t|      [0.025      0.975]\n",
            "------------------------------------------------------------------------------\n",
            "const       4.122e+04   4607.941      8.945      0.000    3.19e+04    5.05e+04\n",
            "x1          1.339e+04   2421.500      5.529      0.000    8511.111    1.83e+04\n",
            "x2          1.448e+04   2518.987      5.748      0.000    9405.870    1.96e+04\n",
            "x3          1.335e+04   2459.306      5.428      0.000    8395.623    1.83e+04\n",
            "x4             0.8609      0.031     27.665      0.000       0.798       0.924\n",
            "x5            -0.0527      0.050     -1.045      0.301      -0.154       0.049\n",
            "==============================================================================\n",
            "Omnibus:                       14.275   Durbin-Watson:                   1.197\n",
            "Prob(Omnibus):                  0.001   Jarque-Bera (JB):               19.260\n",
            "Skew:                          -0.953   Prob(JB):                     6.57e-05\n",
            "Kurtosis:                       5.369   Cond. No.                     3.34e+17\n",
            "==============================================================================\n",
            "\n",
            "Notes:\n",
            "[1] Standard Errors assume that the covariance matrix of the errors is correctly specified.\n",
            "[2] The smallest eigenvalue is 9.69e-24. This might indicate that there are\n",
            "strong multicollinearity problems or that the design matrix is singular.\n"
          ]
        }
      ]
    },
    {
      "cell_type": "code",
      "source": [
        "# Step 2: Remove the predictor with the highest p-value (if > significance level, e.g., 0.05)\n",
        "\n",
        "# Remove x5 from the dataset (assuming x5 is the 6th column in X, which is index 5)\n",
        "X_opt = X[:, [0, 1, 2, 3, 4]]  # Exclude the last column which is x5\n",
        "X_opt = X_opt.astype(np.float64)\n",
        "\n",
        "# Fit the OLS model\n",
        "regressor_OLS = sm.OLS(endog=y, exog=X_opt).fit()\n",
        "\n",
        "# Print the summary of the model\n",
        "print(regressor_OLS.summary())"
      ],
      "metadata": {
        "colab": {
          "base_uri": "https://localhost:8080/"
        },
        "id": "Xo1EmpBPJ5sR",
        "outputId": "1c14586d-2b23-4b4a-83a0-fc0b74b4b574"
      },
      "execution_count": 49,
      "outputs": [
        {
          "output_type": "stream",
          "name": "stdout",
          "text": [
            "                            OLS Regression Results                            \n",
            "==============================================================================\n",
            "Dep. Variable:                 Profit   R-squared:                       0.947\n",
            "Model:                            OLS   Adj. R-squared:                  0.943\n",
            "Method:                 Least Squares   F-statistic:                     272.4\n",
            "Date:                Tue, 06 Aug 2024   Prob (F-statistic):           2.76e-29\n",
            "Time:                        15:01:57   Log-Likelihood:                -527.35\n",
            "No. Observations:                  50   AIC:                             1063.\n",
            "Df Residuals:                      46   BIC:                             1070.\n",
            "Df Model:                           3                                         \n",
            "Covariance Type:            nonrobust                                         \n",
            "==============================================================================\n",
            "                 coef    std err          t      P>|t|      [0.025      0.975]\n",
            "------------------------------------------------------------------------------\n",
            "const       3.686e+04   1959.786     18.806      0.000    3.29e+04    4.08e+04\n",
            "x1          1.189e+04   1956.677      6.079      0.000    7955.697    1.58e+04\n",
            "x2          1.306e+04   2122.665      6.152      0.000    8785.448    1.73e+04\n",
            "x3           1.19e+04   2036.022      5.847      0.000    7805.580     1.6e+04\n",
            "x4             0.8530      0.030     28.226      0.000       0.792       0.914\n",
            "==============================================================================\n",
            "Omnibus:                       13.418   Durbin-Watson:                   1.122\n",
            "Prob(Omnibus):                  0.001   Jarque-Bera (JB):               17.605\n",
            "Skew:                          -0.907   Prob(JB):                     0.000150\n",
            "Kurtosis:                       5.271   Cond. No.                     3.20e+17\n",
            "==============================================================================\n",
            "\n",
            "Notes:\n",
            "[1] Standard Errors assume that the covariance matrix of the errors is correctly specified.\n",
            "[2] The smallest eigenvalue is 3.66e-24. This might indicate that there are\n",
            "strong multicollinearity problems or that the design matrix is singular.\n"
          ]
        }
      ]
    },
    {
      "cell_type": "code",
      "source": [
        "from statsmodels.stats.outliers_influence import variance_inflation_factor\n",
        "\n",
        "# Assuming X_opt contains the independent variables used in the model\n",
        "X_opt_df = pd.DataFrame(X_opt, columns=['const', 'x1', 'x2', 'x3', 'x4'])\n",
        "\n",
        "# Calculate VIF for each explanatory variable\n",
        "vif_data = pd.DataFrame()\n",
        "vif_data[\"feature\"] = X_opt_df.columns\n",
        "vif_data[\"VIF\"] = [variance_inflation_factor(X_opt_df.values, i) for i in range(X_opt_df.shape[1])]\n",
        "\n",
        "print(vif_data)\n"
      ],
      "metadata": {
        "colab": {
          "base_uri": "https://localhost:8080/"
        },
        "id": "HKCGc_t-NIJl",
        "outputId": "a9e5c951-7a18-48e7-d264-bec0eba05f08"
      },
      "execution_count": 50,
      "outputs": [
        {
          "output_type": "stream",
          "name": "stdout",
          "text": [
            "  feature       VIF\n",
            "0   const  0.000000\n",
            "1      x1       inf\n",
            "2      x2       inf\n",
            "3      x3       inf\n",
            "4      x4  1.022635\n"
          ]
        },
        {
          "output_type": "stream",
          "name": "stderr",
          "text": [
            "/usr/local/lib/python3.10/dist-packages/statsmodels/regression/linear_model.py:1783: RuntimeWarning: divide by zero encountered in scalar divide\n",
            "  return 1 - self.ssr/self.centered_tss\n",
            "/usr/local/lib/python3.10/dist-packages/statsmodels/stats/outliers_influence.py:197: RuntimeWarning: divide by zero encountered in scalar divide\n",
            "  vif = 1. / (1. - r_squared_i)\n"
          ]
        }
      ]
    },
    }
  ]
}
